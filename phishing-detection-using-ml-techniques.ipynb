{
 "cells": [
  {
   "cell_type": "code",
   "execution_count": 1,
   "id": "e6e390a4",
   "metadata": {
    "execution": {
     "iopub.execute_input": "2022-10-22T18:09:33.699052Z",
     "iopub.status.busy": "2022-10-22T18:09:33.698583Z",
     "iopub.status.idle": "2022-10-22T18:09:35.614850Z",
     "shell.execute_reply": "2022-10-22T18:09:35.613615Z"
    },
    "papermill": {
     "duration": 1.931923,
     "end_time": "2022-10-22T18:09:35.617509",
     "exception": false,
     "start_time": "2022-10-22T18:09:33.685586",
     "status": "completed"
    },
    "tags": []
   },
   "outputs": [],
   "source": [
    "import pandas as pd\n",
    "import numpy as np\n",
    "import seaborn as sb\n",
    "import matplotlib.pyplot as plt\n",
    "from nltk.tokenize import RegexpTokenizer\n",
    "import nltk\n",
    "#nltk.download('wordnet')\n",
    "from nltk.stem import WordNetLemmatizer\n",
    "from sklearn.feature_extraction.text import TfidfVectorizer\n",
    "from sklearn.feature_extraction.text import CountVectorizer  \n",
    "from sklearn.model_selection import train_test_split\n",
    "from sklearn.naive_bayes import MultinomialNB \n",
    "from sklearn import metrics\n",
    "from sklearn.metrics import confusion_matrix,mean_squared_error,precision_score,recall_score,f1_score\n",
    "from sklearn.metrics import classification_report , roc_curve, f1_score, accuracy_score, recall_score , roc_auc_score,make_scorer\n",
    "from sklearn.linear_model import LogisticRegression\n",
    "from sklearn.ensemble import RandomForestClassifier\n"
   ]
  },
  {
   "cell_type": "code",
   "execution_count": 2,
   "id": "74e33bee",
   "metadata": {
    "execution": {
     "iopub.execute_input": "2022-10-22T18:09:35.638602Z",
     "iopub.status.busy": "2022-10-22T18:09:35.637982Z",
     "iopub.status.idle": "2022-10-22T18:09:36.684665Z",
     "shell.execute_reply": "2022-10-22T18:09:36.683613Z"
    },
    "papermill": {
     "duration": 1.060471,
     "end_time": "2022-10-22T18:09:36.687601",
     "exception": false,
     "start_time": "2022-10-22T18:09:35.627130",
     "status": "completed"
    },
    "tags": []
   },
   "outputs": [
    {
     "data": {
      "text/html": [
       "<div>\n",
       "<style scoped>\n",
       "    .dataframe tbody tr th:only-of-type {\n",
       "        vertical-align: middle;\n",
       "    }\n",
       "\n",
       "    .dataframe tbody tr th {\n",
       "        vertical-align: top;\n",
       "    }\n",
       "\n",
       "    .dataframe thead th {\n",
       "        text-align: right;\n",
       "    }\n",
       "</style>\n",
       "<table border=\"1\" class=\"dataframe\">\n",
       "  <thead>\n",
       "    <tr style=\"text-align: right;\">\n",
       "      <th></th>\n",
       "      <th>URL</th>\n",
       "      <th>Label</th>\n",
       "    </tr>\n",
       "  </thead>\n",
       "  <tbody>\n",
       "    <tr>\n",
       "      <th>0</th>\n",
       "      <td>nobell.it/70ffb52d079109dca5664cce6f317373782/...</td>\n",
       "      <td>bad</td>\n",
       "    </tr>\n",
       "    <tr>\n",
       "      <th>1</th>\n",
       "      <td>www.dghjdgf.com/paypal.co.uk/cycgi-bin/webscrc...</td>\n",
       "      <td>bad</td>\n",
       "    </tr>\n",
       "    <tr>\n",
       "      <th>2</th>\n",
       "      <td>serviciosbys.com/paypal.cgi.bin.get-into.herf....</td>\n",
       "      <td>bad</td>\n",
       "    </tr>\n",
       "    <tr>\n",
       "      <th>3</th>\n",
       "      <td>mail.printakid.com/www.online.americanexpress....</td>\n",
       "      <td>bad</td>\n",
       "    </tr>\n",
       "    <tr>\n",
       "      <th>4</th>\n",
       "      <td>thewhiskeydregs.com/wp-content/themes/widescre...</td>\n",
       "      <td>bad</td>\n",
       "    </tr>\n",
       "  </tbody>\n",
       "</table>\n",
       "</div>"
      ],
      "text/plain": [
       "                                                 URL Label\n",
       "0  nobell.it/70ffb52d079109dca5664cce6f317373782/...   bad\n",
       "1  www.dghjdgf.com/paypal.co.uk/cycgi-bin/webscrc...   bad\n",
       "2  serviciosbys.com/paypal.cgi.bin.get-into.herf....   bad\n",
       "3  mail.printakid.com/www.online.americanexpress....   bad\n",
       "4  thewhiskeydregs.com/wp-content/themes/widescre...   bad"
      ]
     },
     "execution_count": 2,
     "metadata": {},
     "output_type": "execute_result"
    }
   ],
   "source": [
    "df= pd.read_csv(\"phishing_site_urls.csv\")\n",
    "df.head()"
   ]
  },
  {
   "cell_type": "code",
   "execution_count": 3,
   "id": "bf073ecf",
   "metadata": {
    "execution": {
     "iopub.execute_input": "2022-10-22T18:09:36.709445Z",
     "iopub.status.busy": "2022-10-22T18:09:36.709067Z",
     "iopub.status.idle": "2022-10-22T18:09:36.715763Z",
     "shell.execute_reply": "2022-10-22T18:09:36.714663Z"
    },
    "papermill": {
     "duration": 0.020938,
     "end_time": "2022-10-22T18:09:36.718078",
     "exception": false,
     "start_time": "2022-10-22T18:09:36.697140",
     "status": "completed"
    },
    "tags": []
   },
   "outputs": [
    {
     "data": {
      "text/plain": [
       "(549346, 2)"
      ]
     },
     "execution_count": 3,
     "metadata": {},
     "output_type": "execute_result"
    }
   ],
   "source": [
    "df.shape"
   ]
  },
  {
   "cell_type": "markdown",
   "id": "954e7d24",
   "metadata": {
    "papermill": {
     "duration": 0.008824,
     "end_time": "2022-10-22T18:09:36.736176",
     "exception": false,
     "start_time": "2022-10-22T18:09:36.727352",
     "status": "completed"
    },
    "tags": []
   },
   "source": [
    "## There is Unbalance in the data"
   ]
  },
  {
   "cell_type": "code",
   "execution_count": 4,
   "id": "d9e0c34f",
   "metadata": {
    "execution": {
     "iopub.execute_input": "2022-10-22T18:09:36.756475Z",
     "iopub.status.busy": "2022-10-22T18:09:36.755682Z",
     "iopub.status.idle": "2022-10-22T18:09:37.111944Z",
     "shell.execute_reply": "2022-10-22T18:09:37.110829Z"
    },
    "papermill": {
     "duration": 0.369217,
     "end_time": "2022-10-22T18:09:37.114566",
     "exception": false,
     "start_time": "2022-10-22T18:09:36.745349",
     "status": "completed"
    },
    "tags": []
   },
   "outputs": [
    {
     "data": {
      "text/plain": [
       "<BarContainer object of 2 artists>"
      ]
     },
     "execution_count": 4,
     "metadata": {},
     "output_type": "execute_result"
    },
    {
     "data": {
      "image/png": "[encoded data removed]",
      "text/plain": [
       "<Figure size 432x288 with 1 Axes>"
      ]
     },
     "metadata": {
      "needs_background": "light"
     },
     "output_type": "display_data"
    }
   ],
   "source": [
    "x=df.Label.unique()\n",
    "x\n",
    "y=np.array([df[df['Label']=='bad'].count()[0],df[df['Label']=='good'].count()[0]])\n",
    "y\n",
    "\n",
    "plt.bar(x,y,color=[ 'red', 'green'])"
   ]
  },
  {
   "cell_type": "code",
   "execution_count": 5,
   "id": "8e9ed693",
   "metadata": {
    "execution": {
     "iopub.execute_input": "2022-10-22T18:09:37.135699Z",
     "iopub.status.busy": "2022-10-22T18:09:37.135342Z",
     "iopub.status.idle": "2022-10-22T18:09:37.200633Z",
     "shell.execute_reply": "2022-10-22T18:09:37.199360Z"
    },
    "papermill": {
     "duration": 0.078607,
     "end_time": "2022-10-22T18:09:37.203109",
     "exception": false,
     "start_time": "2022-10-22T18:09:37.124502",
     "status": "completed"
    },
    "tags": []
   },
   "outputs": [
    {
     "name": "stdout",
     "output_type": "stream",
     "text": [
      "<class 'pandas.core.frame.DataFrame'>\n",
      "RangeIndex: 549346 entries, 0 to 549345\n",
      "Data columns (total 2 columns):\n",
      " #   Column  Non-Null Count   Dtype \n",
      "---  ------  --------------   ----- \n",
      " 0   URL     549346 non-null  object\n",
      " 1   Label   549346 non-null  object\n",
      "dtypes: object(2)\n",
      "memory usage: 8.4+ MB\n"
     ]
    }
   ],
   "source": [
    "df.info()"
   ]
  },
  {
   "cell_type": "markdown",
   "id": "b598e692",
   "metadata": {
    "papermill": {
     "duration": 0.010039,
     "end_time": "2022-10-22T18:09:37.223119",
     "exception": false,
     "start_time": "2022-10-22T18:09:37.213080",
     "status": "completed"
    },
    "tags": []
   },
   "source": [
    "## There is no nulls in the dataset"
   ]
  },
  {
   "cell_type": "code",
   "execution_count": 6,
   "id": "ea0646fa",
   "metadata": {
    "execution": {
     "iopub.execute_input": "2022-10-22T18:09:37.245017Z",
     "iopub.status.busy": "2022-10-22T18:09:37.244345Z",
     "iopub.status.idle": "2022-10-22T18:09:37.301897Z",
     "shell.execute_reply": "2022-10-22T18:09:37.300621Z"
    },
    "papermill": {
     "duration": 0.071179,
     "end_time": "2022-10-22T18:09:37.304147",
     "exception": false,
     "start_time": "2022-10-22T18:09:37.232968",
     "status": "completed"
    },
    "tags": []
   },
   "outputs": [
    {
     "data": {
      "text/plain": [
       "URL      0\n",
       "Label    0\n",
       "dtype: int64"
      ]
     },
     "execution_count": 6,
     "metadata": {},
     "output_type": "execute_result"
    }
   ],
   "source": [
    "df.isna().sum()"
   ]
  },
  {
   "cell_type": "markdown",
   "id": "f4994c72",
   "metadata": {
    "papermill": {
     "duration": 0.009584,
     "end_time": "2022-10-22T18:09:37.323601",
     "exception": false,
     "start_time": "2022-10-22T18:09:37.314017",
     "status": "completed"
    },
    "tags": []
   },
   "source": [
    "## Check and remove duplicates"
   ]
  },
  {
   "cell_type": "code",
   "execution_count": 7,
   "id": "6dadd4ff",
   "metadata": {
    "execution": {
     "iopub.execute_input": "2022-10-22T18:09:37.345706Z",
     "iopub.status.busy": "2022-10-22T18:09:37.344447Z",
     "iopub.status.idle": "2022-10-22T18:09:37.460433Z",
     "shell.execute_reply": "2022-10-22T18:09:37.458545Z"
    },
    "papermill": {
     "duration": 0.12994,
     "end_time": "2022-10-22T18:09:37.463314",
     "exception": false,
     "start_time": "2022-10-22T18:09:37.333374",
     "status": "completed"
    },
    "tags": []
   },
   "outputs": [
    {
     "data": {
      "text/plain": [
       "42151"
      ]
     },
     "execution_count": 7,
     "metadata": {},
     "output_type": "execute_result"
    }
   ],
   "source": [
    "df.URL.duplicated().sum()"
   ]
  },
  {
   "cell_type": "code",
   "execution_count": 8,
   "id": "7cffc8c2",
   "metadata": {
    "execution": {
     "iopub.execute_input": "2022-10-22T18:09:37.489636Z",
     "iopub.status.busy": "2022-10-22T18:09:37.489244Z",
     "iopub.status.idle": "2022-10-22T18:09:37.655978Z",
     "shell.execute_reply": "2022-10-22T18:09:37.654708Z"
    },
    "papermill": {
     "duration": 0.182937,
     "end_time": "2022-10-22T18:09:37.658423",
     "exception": false,
     "start_time": "2022-10-22T18:09:37.475486",
     "status": "completed"
    },
    "tags": []
   },
   "outputs": [
    {
     "data": {
      "text/html": [
       "<div>\n",
       "<style scoped>\n",
       "    .dataframe tbody tr th:only-of-type {\n",
       "        vertical-align: middle;\n",
       "    }\n",
       "\n",
       "    .dataframe tbody tr th {\n",
       "        vertical-align: top;\n",
       "    }\n",
       "\n",
       "    .dataframe thead th {\n",
       "        text-align: right;\n",
       "    }\n",
       "</style>\n",
       "<table border=\"1\" class=\"dataframe\">\n",
       "  <thead>\n",
       "    <tr style=\"text-align: right;\">\n",
       "      <th></th>\n",
       "      <th>URL</th>\n",
       "      <th>Label</th>\n",
       "    </tr>\n",
       "  </thead>\n",
       "  <tbody>\n",
       "    <tr>\n",
       "      <th>0</th>\n",
       "      <td>nobell.it/70ffb52d079109dca5664cce6f317373782/...</td>\n",
       "      <td>bad</td>\n",
       "    </tr>\n",
       "    <tr>\n",
       "      <th>1</th>\n",
       "      <td>www.dghjdgf.com/paypal.co.uk/cycgi-bin/webscrc...</td>\n",
       "      <td>bad</td>\n",
       "    </tr>\n",
       "    <tr>\n",
       "      <th>2</th>\n",
       "      <td>serviciosbys.com/paypal.cgi.bin.get-into.herf....</td>\n",
       "      <td>bad</td>\n",
       "    </tr>\n",
       "    <tr>\n",
       "      <th>3</th>\n",
       "      <td>mail.printakid.com/www.online.americanexpress....</td>\n",
       "      <td>bad</td>\n",
       "    </tr>\n",
       "    <tr>\n",
       "      <th>4</th>\n",
       "      <td>thewhiskeydregs.com/wp-content/themes/widescre...</td>\n",
       "      <td>bad</td>\n",
       "    </tr>\n",
       "    <tr>\n",
       "      <th>...</th>\n",
       "      <td>...</td>\n",
       "      <td>...</td>\n",
       "    </tr>\n",
       "    <tr>\n",
       "      <th>507190</th>\n",
       "      <td>23.227.196.215/</td>\n",
       "      <td>bad</td>\n",
       "    </tr>\n",
       "    <tr>\n",
       "      <th>507191</th>\n",
       "      <td>apple-checker.org/</td>\n",
       "      <td>bad</td>\n",
       "    </tr>\n",
       "    <tr>\n",
       "      <th>507192</th>\n",
       "      <td>apple-iclods.org/</td>\n",
       "      <td>bad</td>\n",
       "    </tr>\n",
       "    <tr>\n",
       "      <th>507193</th>\n",
       "      <td>apple-uptoday.org/</td>\n",
       "      <td>bad</td>\n",
       "    </tr>\n",
       "    <tr>\n",
       "      <th>507194</th>\n",
       "      <td>apple-search.info</td>\n",
       "      <td>bad</td>\n",
       "    </tr>\n",
       "  </tbody>\n",
       "</table>\n",
       "<p>507195 rows × 2 columns</p>\n",
       "</div>"
      ],
      "text/plain": [
       "                                                      URL Label\n",
       "0       nobell.it/70ffb52d079109dca5664cce6f317373782/...   bad\n",
       "1       www.dghjdgf.com/paypal.co.uk/cycgi-bin/webscrc...   bad\n",
       "2       serviciosbys.com/paypal.cgi.bin.get-into.herf....   bad\n",
       "3       mail.printakid.com/www.online.americanexpress....   bad\n",
       "4       thewhiskeydregs.com/wp-content/themes/widescre...   bad\n",
       "...                                                   ...   ...\n",
       "507190                                    23.227.196.215/   bad\n",
       "507191                                 apple-checker.org/   bad\n",
       "507192                                  apple-iclods.org/   bad\n",
       "507193                                 apple-uptoday.org/   bad\n",
       "507194                                  apple-search.info   bad\n",
       "\n",
       "[507195 rows x 2 columns]"
      ]
     },
     "execution_count": 8,
     "metadata": {},
     "output_type": "execute_result"
    }
   ],
   "source": [
    "df.drop(df[df.URL.duplicated() == True].index, axis = 0, inplace = True)\n",
    "df.reset_index(drop=True)"
   ]
  },
  {
   "cell_type": "markdown",
   "id": "8c74f81d",
   "metadata": {
    "papermill": {
     "duration": 0.010191,
     "end_time": "2022-10-22T18:09:37.679432",
     "exception": false,
     "start_time": "2022-10-22T18:09:37.669241",
     "status": "completed"
    },
    "tags": []
   },
   "source": [
    "## Handling StopWords"
   ]
  },
  {
   "cell_type": "code",
   "execution_count": 9,
   "id": "4bee98c5",
   "metadata": {
    "execution": {
     "iopub.execute_input": "2022-10-22T18:09:37.702484Z",
     "iopub.status.busy": "2022-10-22T18:09:37.702100Z",
     "iopub.status.idle": "2022-10-22T18:09:37.714489Z",
     "shell.execute_reply": "2022-10-22T18:09:37.713085Z"
    },
    "papermill": {
     "duration": 0.028159,
     "end_time": "2022-10-22T18:09:37.717880",
     "exception": false,
     "start_time": "2022-10-22T18:09:37.689721",
     "status": "completed"
    },
    "tags": []
   },
   "outputs": [
    {
     "name": "stdout",
     "output_type": "stream",
     "text": [
      "['i', 'me', 'my', 'myself', 'we', 'our', 'ours', 'ourselves', 'you', \"you're\", \"you've\", \"you'll\", \"you'd\", 'your', 'yours', 'yourself', 'yourselves', 'he', 'him', 'his', 'himself', 'she', \"she's\", 'her', 'hers', 'herself', 'it', \"it's\", 'its', 'itself', 'they', 'them', 'their', 'theirs', 'themselves', 'what', 'which', 'who', 'whom', 'this', 'that', \"that'll\", 'these', 'those', 'am', 'is', 'are', 'was', 'were', 'be', 'been', 'being', 'have', 'has', 'had', 'having', 'do', 'does', 'did', 'doing', 'a', 'an', 'the', 'and', 'but', 'if', 'or', 'because', 'as', 'until', 'while', 'of', 'at', 'by', 'for', 'with', 'about', 'against', 'between', 'into', 'through', 'during', 'before', 'after', 'above', 'below', 'to', 'from', 'up', 'down', 'in', 'out', 'on', 'off', 'over', 'under', 'again', 'further', 'then', 'once', 'here', 'there', 'when', 'where', 'why', 'how', 'all', 'any', 'both', 'each', 'few', 'more', 'most', 'other', 'some', 'such', 'no', 'nor', 'not', 'only', 'own', 'same', 'so', 'than', 'too', 'very', 's', 't', 'can', 'will', 'just', 'don', \"don't\", 'should', \"should've\", 'now', 'd', 'll', 'm', 'o', 're', 've', 'y', 'ain', 'aren', \"aren't\", 'couldn', \"couldn't\", 'didn', \"didn't\", 'doesn', \"doesn't\", 'hadn', \"hadn't\", 'hasn', \"hasn't\", 'haven', \"haven't\", 'isn', \"isn't\", 'ma', 'mightn', \"mightn't\", 'mustn', \"mustn't\", 'needn', \"needn't\", 'shan', \"shan't\", 'shouldn', \"shouldn't\", 'wasn', \"wasn't\", 'weren', \"weren't\", 'won', \"won't\", 'wouldn', \"wouldn't\"]\n"
     ]
    }
   ],
   "source": [
    "import nltk\n",
    "from nltk.corpus import stopwords\n",
    "print(stopwords.words('english'))\n",
    "sw=list(set(stopwords.words(\"english\")))"
   ]
  },
  {
   "cell_type": "code",
   "execution_count": 10,
   "id": "8ba5b8a1",
   "metadata": {
    "execution": {
     "iopub.execute_input": "2022-10-22T18:09:37.740694Z",
     "iopub.status.busy": "2022-10-22T18:09:37.740006Z",
     "iopub.status.idle": "2022-10-22T18:09:37.788143Z",
     "shell.execute_reply": "2022-10-22T18:09:37.787078Z"
    },
    "papermill": {
     "duration": 0.061956,
     "end_time": "2022-10-22T18:09:37.790600",
     "exception": false,
     "start_time": "2022-10-22T18:09:37.728644",
     "status": "completed"
    },
    "tags": []
   },
   "outputs": [
    {
     "data": {
      "text/html": [
       "<div>\n",
       "<style scoped>\n",
       "    .dataframe tbody tr th:only-of-type {\n",
       "        vertical-align: middle;\n",
       "    }\n",
       "\n",
       "    .dataframe tbody tr th {\n",
       "        vertical-align: top;\n",
       "    }\n",
       "\n",
       "    .dataframe thead th {\n",
       "        text-align: right;\n",
       "    }\n",
       "</style>\n",
       "<table border=\"1\" class=\"dataframe\">\n",
       "  <thead>\n",
       "    <tr style=\"text-align: right;\">\n",
       "      <th></th>\n",
       "      <th>URL</th>\n",
       "      <th>Label</th>\n",
       "      <th>clean_url</th>\n",
       "    </tr>\n",
       "  </thead>\n",
       "  <tbody>\n",
       "    <tr>\n",
       "      <th>0</th>\n",
       "      <td>nobell.it/70ffb52d079109dca5664cce6f317373782/...</td>\n",
       "      <td>bad</td>\n",
       "      <td>nobell.it/70ffb52d079109dca5664cce6f317373782/...</td>\n",
       "    </tr>\n",
       "    <tr>\n",
       "      <th>1</th>\n",
       "      <td>www.dghjdgf.com/paypal.co.uk/cycgi-bin/webscrc...</td>\n",
       "      <td>bad</td>\n",
       "      <td>www.dghjdgf.com/paypal.co.uk/cycgi-bin/webscrc...</td>\n",
       "    </tr>\n",
       "    <tr>\n",
       "      <th>2</th>\n",
       "      <td>serviciosbys.com/paypal.cgi.bin.get-into.herf....</td>\n",
       "      <td>bad</td>\n",
       "      <td>serviciosbys.com/paypal.cgi.bin.get-into.herf....</td>\n",
       "    </tr>\n",
       "    <tr>\n",
       "      <th>3</th>\n",
       "      <td>mail.printakid.com/www.online.americanexpress....</td>\n",
       "      <td>bad</td>\n",
       "      <td>mail.printakid.com/www.online.americanexpress....</td>\n",
       "    </tr>\n",
       "    <tr>\n",
       "      <th>4</th>\n",
       "      <td>thewhiskeydregs.com/wp-content/themes/widescre...</td>\n",
       "      <td>bad</td>\n",
       "      <td>thewhiskeydregs.com/wp-content/themes/widescre...</td>\n",
       "    </tr>\n",
       "  </tbody>\n",
       "</table>\n",
       "</div>"
      ],
      "text/plain": [
       "                                                 URL Label  \\\n",
       "0  nobell.it/70ffb52d079109dca5664cce6f317373782/...   bad   \n",
       "1  www.dghjdgf.com/paypal.co.uk/cycgi-bin/webscrc...   bad   \n",
       "2  serviciosbys.com/paypal.cgi.bin.get-into.herf....   bad   \n",
       "3  mail.printakid.com/www.online.americanexpress....   bad   \n",
       "4  thewhiskeydregs.com/wp-content/themes/widescre...   bad   \n",
       "\n",
       "                                           clean_url  \n",
       "0  nobell.it/70ffb52d079109dca5664cce6f317373782/...  \n",
       "1  www.dghjdgf.com/paypal.co.uk/cycgi-bin/webscrc...  \n",
       "2  serviciosbys.com/paypal.cgi.bin.get-into.herf....  \n",
       "3  mail.printakid.com/www.online.americanexpress....  \n",
       "4  thewhiskeydregs.com/wp-content/themes/widescre...  "
      ]
     },
     "execution_count": 10,
     "metadata": {},
     "output_type": "execute_result"
    }
   ],
   "source": [
    "df['clean_url']=df.URL.astype(str)\n",
    "#df['clean_url']=df['clean_url'].apply(lambda x:\" \".join([word for word in x.split() if word not in sw]))\n",
    "df.head()"
   ]
  },
  {
   "cell_type": "code",
   "execution_count": 11,
   "id": "ca14fb0a",
   "metadata": {
    "execution": {
     "iopub.execute_input": "2022-10-22T18:09:37.813323Z",
     "iopub.status.busy": "2022-10-22T18:09:37.812952Z",
     "iopub.status.idle": "2022-10-22T18:09:37.892266Z",
     "shell.execute_reply": "2022-10-22T18:09:37.891101Z"
    },
    "papermill": {
     "duration": 0.093048,
     "end_time": "2022-10-22T18:09:37.894406",
     "exception": false,
     "start_time": "2022-10-22T18:09:37.801358",
     "status": "completed"
    },
    "tags": []
   },
   "outputs": [
    {
     "data": {
      "text/plain": [
       "0"
      ]
     },
     "execution_count": 11,
     "metadata": {},
     "output_type": "execute_result"
    }
   ],
   "source": [
    "df.URL.duplicated().sum()"
   ]
  },
  {
   "cell_type": "markdown",
   "id": "99d0f7bc",
   "metadata": {
    "papermill": {
     "duration": 0.010251,
     "end_time": "2022-10-22T18:09:37.915119",
     "exception": false,
     "start_time": "2022-10-22T18:09:37.904868",
     "status": "completed"
    },
    "tags": []
   },
   "source": [
    "## Take only the Alphabets"
   ]
  },
  {
   "cell_type": "code",
   "execution_count": 12,
   "id": "ba1cfd2f",
   "metadata": {
    "execution": {
     "iopub.execute_input": "2022-10-22T18:09:37.937905Z",
     "iopub.status.busy": "2022-10-22T18:09:37.936938Z",
     "iopub.status.idle": "2022-10-22T18:09:37.941727Z",
     "shell.execute_reply": "2022-10-22T18:09:37.940707Z"
    },
    "papermill": {
     "duration": 0.018749,
     "end_time": "2022-10-22T18:09:37.944222",
     "exception": false,
     "start_time": "2022-10-22T18:09:37.925473",
     "status": "completed"
    },
    "tags": []
   },
   "outputs": [],
   "source": [
    "tok= RegexpTokenizer(r'[A-Za-z0-9]+')"
   ]
  },
  {
   "cell_type": "code",
   "execution_count": 37,
   "id": "f6804d6f",
   "metadata": {},
   "outputs": [
    {
     "data": {
      "text/plain": [
       "'www.dghjdgf.com/paypal.co.uk/cycgi-bin/webscrcmd=_home-customer&nav=1/loading.php'"
      ]
     },
     "execution_count": 37,
     "metadata": {},
     "output_type": "execute_result"
    }
   ],
   "source": [
    "df.URL[1]"
   ]
  },
  {
   "cell_type": "code",
   "execution_count": 13,
   "id": "24b1aee8",
   "metadata": {
    "execution": {
     "iopub.execute_input": "2022-10-22T18:09:37.967460Z",
     "iopub.status.busy": "2022-10-22T18:09:37.966546Z",
     "iopub.status.idle": "2022-10-22T18:09:37.998126Z",
     "shell.execute_reply": "2022-10-22T18:09:37.997247Z"
    },
    "papermill": {
     "duration": 0.045784,
     "end_time": "2022-10-22T18:09:38.000509",
     "exception": false,
     "start_time": "2022-10-22T18:09:37.954725",
     "status": "completed"
    },
    "tags": []
   },
   "outputs": [
    {
     "data": {
      "text/plain": [
       "['www',\n",
       " 'dghjdgf',\n",
       " 'com',\n",
       " 'paypal',\n",
       " 'co',\n",
       " 'uk',\n",
       " 'cycgi',\n",
       " 'bin',\n",
       " 'webscrcmd',\n",
       " 'home',\n",
       " 'customer',\n",
       " 'nav',\n",
       " '1',\n",
       " 'loading',\n",
       " 'php']"
      ]
     },
     "execution_count": 13,
     "metadata": {},
     "output_type": "execute_result"
    }
   ],
   "source": [
    "tok.tokenize(df.URL[1])"
   ]
  },
  {
   "cell_type": "code",
   "execution_count": 14,
   "id": "a54f5c6c",
   "metadata": {
    "execution": {
     "iopub.execute_input": "2022-10-22T18:09:38.023964Z",
     "iopub.status.busy": "2022-10-22T18:09:38.022903Z",
     "iopub.status.idle": "2022-10-22T18:09:40.355977Z",
     "shell.execute_reply": "2022-10-22T18:09:40.354298Z"
    },
    "papermill": {
     "duration": 2.347594,
     "end_time": "2022-10-22T18:09:40.358811",
     "exception": false,
     "start_time": "2022-10-22T18:09:38.011217",
     "status": "completed"
    },
    "tags": []
   },
   "outputs": [],
   "source": [
    "df.clean_url=df.clean_url.map(lambda x: tok.tokenize(x))"
   ]
  },
  {
   "cell_type": "code",
   "execution_count": 15,
   "id": "e1d4c8cd",
   "metadata": {
    "execution": {
     "iopub.execute_input": "2022-10-22T18:09:40.382723Z",
     "iopub.status.busy": "2022-10-22T18:09:40.381636Z",
     "iopub.status.idle": "2022-10-22T18:09:40.395428Z",
     "shell.execute_reply": "2022-10-22T18:09:40.394309Z"
    },
    "papermill": {
     "duration": 0.028139,
     "end_time": "2022-10-22T18:09:40.397706",
     "exception": false,
     "start_time": "2022-10-22T18:09:40.369567",
     "status": "completed"
    },
    "tags": []
   },
   "outputs": [
    {
     "data": {
      "text/html": [
       "<div>\n",
       "<style scoped>\n",
       "    .dataframe tbody tr th:only-of-type {\n",
       "        vertical-align: middle;\n",
       "    }\n",
       "\n",
       "    .dataframe tbody tr th {\n",
       "        vertical-align: top;\n",
       "    }\n",
       "\n",
       "    .dataframe thead th {\n",
       "        text-align: right;\n",
       "    }\n",
       "</style>\n",
       "<table border=\"1\" class=\"dataframe\">\n",
       "  <thead>\n",
       "    <tr style=\"text-align: right;\">\n",
       "      <th></th>\n",
       "      <th>URL</th>\n",
       "      <th>Label</th>\n",
       "      <th>clean_url</th>\n",
       "    </tr>\n",
       "  </thead>\n",
       "  <tbody>\n",
       "    <tr>\n",
       "      <th>0</th>\n",
       "      <td>nobell.it/70ffb52d079109dca5664cce6f317373782/...</td>\n",
       "      <td>bad</td>\n",
       "      <td>[nobell, it, 70ffb52d079109dca5664cce6f3173737...</td>\n",
       "    </tr>\n",
       "    <tr>\n",
       "      <th>1</th>\n",
       "      <td>www.dghjdgf.com/paypal.co.uk/cycgi-bin/webscrc...</td>\n",
       "      <td>bad</td>\n",
       "      <td>[www, dghjdgf, com, paypal, co, uk, cycgi, bin...</td>\n",
       "    </tr>\n",
       "    <tr>\n",
       "      <th>2</th>\n",
       "      <td>serviciosbys.com/paypal.cgi.bin.get-into.herf....</td>\n",
       "      <td>bad</td>\n",
       "      <td>[serviciosbys, com, paypal, cgi, bin, get, int...</td>\n",
       "    </tr>\n",
       "    <tr>\n",
       "      <th>3</th>\n",
       "      <td>mail.printakid.com/www.online.americanexpress....</td>\n",
       "      <td>bad</td>\n",
       "      <td>[mail, printakid, com, www, online, americanex...</td>\n",
       "    </tr>\n",
       "    <tr>\n",
       "      <th>4</th>\n",
       "      <td>thewhiskeydregs.com/wp-content/themes/widescre...</td>\n",
       "      <td>bad</td>\n",
       "      <td>[thewhiskeydregs, com, wp, content, themes, wi...</td>\n",
       "    </tr>\n",
       "  </tbody>\n",
       "</table>\n",
       "</div>"
      ],
      "text/plain": [
       "                                                 URL Label  \\\n",
       "0  nobell.it/70ffb52d079109dca5664cce6f317373782/...   bad   \n",
       "1  www.dghjdgf.com/paypal.co.uk/cycgi-bin/webscrc...   bad   \n",
       "2  serviciosbys.com/paypal.cgi.bin.get-into.herf....   bad   \n",
       "3  mail.printakid.com/www.online.americanexpress....   bad   \n",
       "4  thewhiskeydregs.com/wp-content/themes/widescre...   bad   \n",
       "\n",
       "                                           clean_url  \n",
       "0  [nobell, it, 70ffb52d079109dca5664cce6f3173737...  \n",
       "1  [www, dghjdgf, com, paypal, co, uk, cycgi, bin...  \n",
       "2  [serviciosbys, com, paypal, cgi, bin, get, int...  \n",
       "3  [mail, printakid, com, www, online, americanex...  \n",
       "4  [thewhiskeydregs, com, wp, content, themes, wi...  "
      ]
     },
     "execution_count": 15,
     "metadata": {},
     "output_type": "execute_result"
    }
   ],
   "source": [
    "df.head()"
   ]
  },
  {
   "cell_type": "code",
   "execution_count": 16,
   "id": "e7b52026",
   "metadata": {
    "execution": {
     "iopub.execute_input": "2022-10-22T18:09:40.421975Z",
     "iopub.status.busy": "2022-10-22T18:09:40.421191Z",
     "iopub.status.idle": "2022-10-22T18:09:40.425855Z",
     "shell.execute_reply": "2022-10-22T18:09:40.425042Z"
    },
    "papermill": {
     "duration": 0.019383,
     "end_time": "2022-10-22T18:09:40.428051",
     "exception": false,
     "start_time": "2022-10-22T18:09:40.408668",
     "status": "completed"
    },
    "tags": []
   },
   "outputs": [],
   "source": [
    "#df['clean_url2']=df.URL.astype(str)\n",
    "#df['clean_url2']=df['clean_url'].apply(lambda x:\" \".join([word for word in x if word not in sw]))"
   ]
  },
  {
   "cell_type": "code",
   "execution_count": 16,
   "id": "730a13dd",
   "metadata": {
    "execution": {
     "iopub.execute_input": "2022-10-22T18:09:40.452717Z",
     "iopub.status.busy": "2022-10-22T18:09:40.451962Z",
     "iopub.status.idle": "2022-10-22T18:09:40.465409Z",
     "shell.execute_reply": "2022-10-22T18:09:40.464397Z"
    },
    "papermill": {
     "duration": 0.028367,
     "end_time": "2022-10-22T18:09:40.467591",
     "exception": false,
     "start_time": "2022-10-22T18:09:40.439224",
     "status": "completed"
    },
    "tags": []
   },
   "outputs": [
    {
     "data": {
      "text/html": [
       "<div>\n",
       "<style scoped>\n",
       "    .dataframe tbody tr th:only-of-type {\n",
       "        vertical-align: middle;\n",
       "    }\n",
       "\n",
       "    .dataframe tbody tr th {\n",
       "        vertical-align: top;\n",
       "    }\n",
       "\n",
       "    .dataframe thead th {\n",
       "        text-align: right;\n",
       "    }\n",
       "</style>\n",
       "<table border=\"1\" class=\"dataframe\">\n",
       "  <thead>\n",
       "    <tr style=\"text-align: right;\">\n",
       "      <th></th>\n",
       "      <th>URL</th>\n",
       "      <th>Label</th>\n",
       "      <th>clean_url</th>\n",
       "    </tr>\n",
       "  </thead>\n",
       "  <tbody>\n",
       "    <tr>\n",
       "      <th>0</th>\n",
       "      <td>nobell.it/70ffb52d079109dca5664cce6f317373782/...</td>\n",
       "      <td>bad</td>\n",
       "      <td>[nobell, it, 70ffb52d079109dca5664cce6f3173737...</td>\n",
       "    </tr>\n",
       "    <tr>\n",
       "      <th>1</th>\n",
       "      <td>www.dghjdgf.com/paypal.co.uk/cycgi-bin/webscrc...</td>\n",
       "      <td>bad</td>\n",
       "      <td>[www, dghjdgf, com, paypal, co, uk, cycgi, bin...</td>\n",
       "    </tr>\n",
       "    <tr>\n",
       "      <th>2</th>\n",
       "      <td>serviciosbys.com/paypal.cgi.bin.get-into.herf....</td>\n",
       "      <td>bad</td>\n",
       "      <td>[serviciosbys, com, paypal, cgi, bin, get, int...</td>\n",
       "    </tr>\n",
       "    <tr>\n",
       "      <th>3</th>\n",
       "      <td>mail.printakid.com/www.online.americanexpress....</td>\n",
       "      <td>bad</td>\n",
       "      <td>[mail, printakid, com, www, online, americanex...</td>\n",
       "    </tr>\n",
       "    <tr>\n",
       "      <th>4</th>\n",
       "      <td>thewhiskeydregs.com/wp-content/themes/widescre...</td>\n",
       "      <td>bad</td>\n",
       "      <td>[thewhiskeydregs, com, wp, content, themes, wi...</td>\n",
       "    </tr>\n",
       "  </tbody>\n",
       "</table>\n",
       "</div>"
      ],
      "text/plain": [
       "                                                 URL Label  \\\n",
       "0  nobell.it/70ffb52d079109dca5664cce6f317373782/...   bad   \n",
       "1  www.dghjdgf.com/paypal.co.uk/cycgi-bin/webscrc...   bad   \n",
       "2  serviciosbys.com/paypal.cgi.bin.get-into.herf....   bad   \n",
       "3  mail.printakid.com/www.online.americanexpress....   bad   \n",
       "4  thewhiskeydregs.com/wp-content/themes/widescre...   bad   \n",
       "\n",
       "                                           clean_url  \n",
       "0  [nobell, it, 70ffb52d079109dca5664cce6f3173737...  \n",
       "1  [www, dghjdgf, com, paypal, co, uk, cycgi, bin...  \n",
       "2  [serviciosbys, com, paypal, cgi, bin, get, int...  \n",
       "3  [mail, printakid, com, www, online, americanex...  \n",
       "4  [thewhiskeydregs, com, wp, content, themes, wi...  "
      ]
     },
     "execution_count": 16,
     "metadata": {},
     "output_type": "execute_result"
    }
   ],
   "source": [
    "df.head()"
   ]
  },
  {
   "cell_type": "markdown",
   "id": "725be860",
   "metadata": {
    "papermill": {
     "duration": 0.01059,
     "end_time": "2022-10-22T18:09:40.489442",
     "exception": false,
     "start_time": "2022-10-22T18:09:40.478852",
     "status": "completed"
    },
    "tags": []
   },
   "source": [
    "## Word Lemmtization"
   ]
  },
  {
   "cell_type": "code",
   "execution_count": 17,
   "id": "f9d7b51b",
   "metadata": {
    "execution": {
     "iopub.execute_input": "2022-10-22T18:09:40.513027Z",
     "iopub.status.busy": "2022-10-22T18:09:40.512359Z",
     "iopub.status.idle": "2022-10-22T18:10:01.215269Z",
     "shell.execute_reply": "2022-10-22T18:10:01.214243Z"
    },
    "papermill": {
     "duration": 20.717193,
     "end_time": "2022-10-22T18:10:01.217487",
     "exception": false,
     "start_time": "2022-10-22T18:09:40.500294",
     "status": "completed"
    },
    "tags": []
   },
   "outputs": [
    {
     "name": "stderr",
     "output_type": "stream",
     "text": [
      "[nltk_data] Downloading package omw-1.4 to /Users/qifanwu/nltk_data...\n"
     ]
    },
    {
     "data": {
      "text/html": [
       "<div>\n",
       "<style scoped>\n",
       "    .dataframe tbody tr th:only-of-type {\n",
       "        vertical-align: middle;\n",
       "    }\n",
       "\n",
       "    .dataframe tbody tr th {\n",
       "        vertical-align: top;\n",
       "    }\n",
       "\n",
       "    .dataframe thead th {\n",
       "        text-align: right;\n",
       "    }\n",
       "</style>\n",
       "<table border=\"1\" class=\"dataframe\">\n",
       "  <thead>\n",
       "    <tr style=\"text-align: right;\">\n",
       "      <th></th>\n",
       "      <th>URL</th>\n",
       "      <th>Label</th>\n",
       "      <th>clean_url</th>\n",
       "      <th>lem_url</th>\n",
       "    </tr>\n",
       "  </thead>\n",
       "  <tbody>\n",
       "    <tr>\n",
       "      <th>0</th>\n",
       "      <td>nobell.it/70ffb52d079109dca5664cce6f317373782/...</td>\n",
       "      <td>bad</td>\n",
       "      <td>[nobell, it, 70ffb52d079109dca5664cce6f3173737...</td>\n",
       "      <td>[nobell, it, 70ffb52d079109dca5664cce6f3173737...</td>\n",
       "    </tr>\n",
       "    <tr>\n",
       "      <th>1</th>\n",
       "      <td>www.dghjdgf.com/paypal.co.uk/cycgi-bin/webscrc...</td>\n",
       "      <td>bad</td>\n",
       "      <td>[www, dghjdgf, com, paypal, co, uk, cycgi, bin...</td>\n",
       "      <td>[www, dghjdgf, com, paypal, co, uk, cycgi, bin...</td>\n",
       "    </tr>\n",
       "    <tr>\n",
       "      <th>2</th>\n",
       "      <td>serviciosbys.com/paypal.cgi.bin.get-into.herf....</td>\n",
       "      <td>bad</td>\n",
       "      <td>[serviciosbys, com, paypal, cgi, bin, get, int...</td>\n",
       "      <td>[serviciosbys, com, paypal, cgi, bin, get, int...</td>\n",
       "    </tr>\n",
       "    <tr>\n",
       "      <th>3</th>\n",
       "      <td>mail.printakid.com/www.online.americanexpress....</td>\n",
       "      <td>bad</td>\n",
       "      <td>[mail, printakid, com, www, online, americanex...</td>\n",
       "      <td>[mail, printakid, com, www, online, americanex...</td>\n",
       "    </tr>\n",
       "    <tr>\n",
       "      <th>4</th>\n",
       "      <td>thewhiskeydregs.com/wp-content/themes/widescre...</td>\n",
       "      <td>bad</td>\n",
       "      <td>[thewhiskeydregs, com, wp, content, themes, wi...</td>\n",
       "      <td>[thewhiskeydregs, com, wp, content, theme, wid...</td>\n",
       "    </tr>\n",
       "  </tbody>\n",
       "</table>\n",
       "</div>"
      ],
      "text/plain": [
       "                                                 URL Label  \\\n",
       "0  nobell.it/70ffb52d079109dca5664cce6f317373782/...   bad   \n",
       "1  www.dghjdgf.com/paypal.co.uk/cycgi-bin/webscrc...   bad   \n",
       "2  serviciosbys.com/paypal.cgi.bin.get-into.herf....   bad   \n",
       "3  mail.printakid.com/www.online.americanexpress....   bad   \n",
       "4  thewhiskeydregs.com/wp-content/themes/widescre...   bad   \n",
       "\n",
       "                                           clean_url  \\\n",
       "0  [nobell, it, 70ffb52d079109dca5664cce6f3173737...   \n",
       "1  [www, dghjdgf, com, paypal, co, uk, cycgi, bin...   \n",
       "2  [serviciosbys, com, paypal, cgi, bin, get, int...   \n",
       "3  [mail, printakid, com, www, online, americanex...   \n",
       "4  [thewhiskeydregs, com, wp, content, themes, wi...   \n",
       "\n",
       "                                             lem_url  \n",
       "0  [nobell, it, 70ffb52d079109dca5664cce6f3173737...  \n",
       "1  [www, dghjdgf, com, paypal, co, uk, cycgi, bin...  \n",
       "2  [serviciosbys, com, paypal, cgi, bin, get, int...  \n",
       "3  [mail, printakid, com, www, online, americanex...  \n",
       "4  [thewhiskeydregs, com, wp, content, theme, wid...  "
      ]
     },
     "execution_count": 17,
     "metadata": {},
     "output_type": "execute_result"
    }
   ],
   "source": [
    "nltk.download('omw-1.4')\n",
    "wnl = WordNetLemmatizer()\n",
    "df['lem_url'] = df['clean_url'].map(lambda x: [wnl.lemmatize(word) for word in x])\n",
    "df.head()"
   ]
  },
  {
   "cell_type": "code",
   "execution_count": 42,
   "id": "3fd963e9",
   "metadata": {},
   "outputs": [
    {
     "name": "stdout",
     "output_type": "stream",
     "text": [
      "['thewhiskeydregs', 'com', 'wp', 'content', 'themes', 'widescreen', 'includes', 'temp', 'promocoessmiles', '84784787824HDJNDJDSJSHD', '2724782784']\n",
      "['thewhiskeydregs', 'com', 'wp', 'content', 'theme', 'widescreen', 'includes', 'temp', 'promocoessmiles', '84784787824HDJNDJDSJSHD', '2724782784']\n"
     ]
    }
   ],
   "source": [
    "i = 4\n",
    "print(df['clean_url'].iloc[i])\n",
    "print(df['lem_url'].iloc[i])"
   ]
  },
  {
   "cell_type": "code",
   "execution_count": 18,
   "id": "8bb18f65",
   "metadata": {
    "execution": {
     "iopub.execute_input": "2022-10-22T18:10:01.242718Z",
     "iopub.status.busy": "2022-10-22T18:10:01.241619Z",
     "iopub.status.idle": "2022-10-22T18:10:01.341925Z",
     "shell.execute_reply": "2022-10-22T18:10:01.340784Z"
    },
    "papermill": {
     "duration": 0.115547,
     "end_time": "2022-10-22T18:10:01.344601",
     "exception": false,
     "start_time": "2022-10-22T18:10:01.229054",
     "status": "completed"
    },
    "tags": []
   },
   "outputs": [
    {
     "data": {
      "text/plain": [
       "URL          0\n",
       "Label        0\n",
       "clean_url    0\n",
       "lem_url      0\n",
       "dtype: int64"
      ]
     },
     "execution_count": 18,
     "metadata": {},
     "output_type": "execute_result"
    }
   ],
   "source": [
    "df.isna().sum()"
   ]
  },
  {
   "cell_type": "markdown",
   "id": "bb2e4520",
   "metadata": {
    "papermill": {
     "duration": 0.011801,
     "end_time": "2022-10-22T18:10:01.368064",
     "exception": false,
     "start_time": "2022-10-22T18:10:01.356263",
     "status": "completed"
    },
    "tags": []
   },
   "source": [
    "## Vectorizing using TFIDF"
   ]
  },
  {
   "cell_type": "code",
   "execution_count": 46,
   "id": "676b7fcd",
   "metadata": {},
   "outputs": [
    {
     "data": {
      "text/html": [
       "<div>\n",
       "<style scoped>\n",
       "    .dataframe tbody tr th:only-of-type {\n",
       "        vertical-align: middle;\n",
       "    }\n",
       "\n",
       "    .dataframe tbody tr th {\n",
       "        vertical-align: top;\n",
       "    }\n",
       "\n",
       "    .dataframe thead th {\n",
       "        text-align: right;\n",
       "    }\n",
       "</style>\n",
       "<table border=\"1\" class=\"dataframe\">\n",
       "  <thead>\n",
       "    <tr style=\"text-align: right;\">\n",
       "      <th></th>\n",
       "      <th>URL</th>\n",
       "      <th>Label</th>\n",
       "      <th>clean_url</th>\n",
       "      <th>lem_url</th>\n",
       "    </tr>\n",
       "  </thead>\n",
       "  <tbody>\n",
       "    <tr>\n",
       "      <th>399775</th>\n",
       "      <td>myspace.com/kinsmanredeemer69</td>\n",
       "      <td>good</td>\n",
       "      <td>[myspace, com, kinsmanredeemer69]</td>\n",
       "      <td>[myspace, com, kinsmanredeemer69]</td>\n",
       "    </tr>\n",
       "    <tr>\n",
       "      <th>57714</th>\n",
       "      <td>www.cityoflaredo.com/airport/</td>\n",
       "      <td>good</td>\n",
       "      <td>[www, cityoflaredo, com, airport]</td>\n",
       "      <td>[www, cityoflaredo, com, airport]</td>\n",
       "    </tr>\n",
       "    <tr>\n",
       "      <th>80839</th>\n",
       "      <td>www.cs.umb.edu/~laur/ARMiner/</td>\n",
       "      <td>good</td>\n",
       "      <td>[www, cs, umb, edu, laur, ARMiner]</td>\n",
       "      <td>[www, c, umb, edu, laur, ARMiner]</td>\n",
       "    </tr>\n",
       "    <tr>\n",
       "      <th>359375</th>\n",
       "      <td>imdb.com/name/nm1027430/bio</td>\n",
       "      <td>good</td>\n",
       "      <td>[imdb, com, name, nm1027430, bio]</td>\n",
       "      <td>[imdb, com, name, nm1027430, bio]</td>\n",
       "    </tr>\n",
       "    <tr>\n",
       "      <th>428999</th>\n",
       "      <td>seatplans.com/airlines/Air-Transat</td>\n",
       "      <td>good</td>\n",
       "      <td>[seatplans, com, airlines, Air, Transat]</td>\n",
       "      <td>[seatplans, com, airline, Air, Transat]</td>\n",
       "    </tr>\n",
       "    <tr>\n",
       "      <th>...</th>\n",
       "      <td>...</td>\n",
       "      <td>...</td>\n",
       "      <td>...</td>\n",
       "      <td>...</td>\n",
       "    </tr>\n",
       "    <tr>\n",
       "      <th>264961</th>\n",
       "      <td>192.com/atoz/people/harrison/miriam/</td>\n",
       "      <td>good</td>\n",
       "      <td>[192, com, atoz, people, harrison, miriam]</td>\n",
       "      <td>[192, com, atoz, people, harrison, miriam]</td>\n",
       "    </tr>\n",
       "    <tr>\n",
       "      <th>371621</th>\n",
       "      <td>lead411.com/Fritz_Larkin_7391282.html</td>\n",
       "      <td>good</td>\n",
       "      <td>[lead411, com, Fritz, Larkin, 7391282, html]</td>\n",
       "      <td>[lead411, com, Fritz, Larkin, 7391282, html]</td>\n",
       "    </tr>\n",
       "    <tr>\n",
       "      <th>137507</th>\n",
       "      <td>ilink.me/181bf/</td>\n",
       "      <td>bad</td>\n",
       "      <td>[ilink, me, 181bf]</td>\n",
       "      <td>[ilink, me, 181bf]</td>\n",
       "    </tr>\n",
       "    <tr>\n",
       "      <th>152643</th>\n",
       "      <td>borealsons.bandcamp.com/</td>\n",
       "      <td>good</td>\n",
       "      <td>[borealsons, bandcamp, com]</td>\n",
       "      <td>[borealsons, bandcamp, com]</td>\n",
       "    </tr>\n",
       "    <tr>\n",
       "      <th>125574</th>\n",
       "      <td>131.153.37.4/~kirkk110/plugins/grid/paypal/index/</td>\n",
       "      <td>bad</td>\n",
       "      <td>[131, 153, 37, 4, kirkk110, plugins, grid, pay...</td>\n",
       "      <td>[131, 153, 37, 4, kirkk110, plugins, grid, pay...</td>\n",
       "    </tr>\n",
       "  </tbody>\n",
       "</table>\n",
       "<p>405756 rows × 4 columns</p>\n",
       "</div>"
      ],
      "text/plain": [
       "                                                      URL Label  \\\n",
       "399775                      myspace.com/kinsmanredeemer69  good   \n",
       "57714                       www.cityoflaredo.com/airport/  good   \n",
       "80839                       www.cs.umb.edu/~laur/ARMiner/  good   \n",
       "359375                        imdb.com/name/nm1027430/bio  good   \n",
       "428999                 seatplans.com/airlines/Air-Transat  good   \n",
       "...                                                   ...   ...   \n",
       "264961               192.com/atoz/people/harrison/miriam/  good   \n",
       "371621              lead411.com/Fritz_Larkin_7391282.html  good   \n",
       "137507                                    ilink.me/181bf/   bad   \n",
       "152643                           borealsons.bandcamp.com/  good   \n",
       "125574  131.153.37.4/~kirkk110/plugins/grid/paypal/index/   bad   \n",
       "\n",
       "                                                clean_url  \\\n",
       "399775                  [myspace, com, kinsmanredeemer69]   \n",
       "57714                   [www, cityoflaredo, com, airport]   \n",
       "80839                  [www, cs, umb, edu, laur, ARMiner]   \n",
       "359375                  [imdb, com, name, nm1027430, bio]   \n",
       "428999           [seatplans, com, airlines, Air, Transat]   \n",
       "...                                                   ...   \n",
       "264961         [192, com, atoz, people, harrison, miriam]   \n",
       "371621       [lead411, com, Fritz, Larkin, 7391282, html]   \n",
       "137507                                 [ilink, me, 181bf]   \n",
       "152643                        [borealsons, bandcamp, com]   \n",
       "125574  [131, 153, 37, 4, kirkk110, plugins, grid, pay...   \n",
       "\n",
       "                                                  lem_url  \n",
       "399775                  [myspace, com, kinsmanredeemer69]  \n",
       "57714                   [www, cityoflaredo, com, airport]  \n",
       "80839                   [www, c, umb, edu, laur, ARMiner]  \n",
       "359375                  [imdb, com, name, nm1027430, bio]  \n",
       "428999            [seatplans, com, airline, Air, Transat]  \n",
       "...                                                   ...  \n",
       "264961         [192, com, atoz, people, harrison, miriam]  \n",
       "371621       [lead411, com, Fritz, Larkin, 7391282, html]  \n",
       "137507                                 [ilink, me, 181bf]  \n",
       "152643                        [borealsons, bandcamp, com]  \n",
       "125574  [131, 153, 37, 4, kirkk110, plugins, grid, pay...  \n",
       "\n",
       "[405756 rows x 4 columns]"
      ]
     },
     "execution_count": 46,
     "metadata": {},
     "output_type": "execute_result"
    }
   ],
   "source": [
    "df_train, df_test = train_test_split(df, random_state=42,test_size=0.2,shuffle=True)\n",
    "df_train"
   ]
  },
  {
   "cell_type": "code",
   "execution_count": 47,
   "id": "55ec51af",
   "metadata": {},
   "outputs": [],
   "source": [
    "word_vectorizer = TfidfVectorizer(ngram_range=(1,1), max_features =1000)\n",
    "\n",
    "unigramdataGet= word_vectorizer.fit_transform(df_train['lem_url'].astype('str'))\n",
    "unigramdataGet = unigramdataGet.toarray()\n",
    "vocab = word_vectorizer.get_feature_names_out ()\n",
    "x=pd.DataFrame(np.round(unigramdataGet, 1), columns=vocab)\n",
    "x[x>0] = 1"
   ]
  },
  {
   "cell_type": "code",
   "execution_count": 19,
   "id": "11767916",
   "metadata": {
    "execution": {
     "iopub.execute_input": "2022-10-22T18:10:01.393843Z",
     "iopub.status.busy": "2022-10-22T18:10:01.393410Z",
     "iopub.status.idle": "2022-10-22T18:10:22.900370Z",
     "shell.execute_reply": "2022-10-22T18:10:22.899170Z"
    },
    "papermill": {
     "duration": 21.523335,
     "end_time": "2022-10-22T18:10:22.903622",
     "exception": false,
     "start_time": "2022-10-22T18:10:01.380287",
     "status": "completed"
    },
    "tags": []
   },
   "outputs": [],
   "source": [
    "# word_vectorizer = TfidfVectorizer(ngram_range=(1,1), max_features =1000)\n",
    "\n",
    "# unigramdataGet= word_vectorizer.fit_transform(df['lem_url'].astype('str'))\n",
    "# unigramdataGet = unigramdataGet.toarray()\n",
    "# vocab = word_vectorizer.get_feature_names_out ()\n",
    "# x=pd.DataFrame(np.round(unigramdataGet, 1), columns=vocab)\n",
    "# x[x>0] = 1"
   ]
  },
  {
   "cell_type": "code",
   "execution_count": 48,
   "id": "a470fcf8",
   "metadata": {
    "execution": {
     "iopub.execute_input": "2022-10-22T18:10:22.929109Z",
     "iopub.status.busy": "2022-10-22T18:10:22.928684Z",
     "iopub.status.idle": "2022-10-22T18:10:23.186786Z",
     "shell.execute_reply": "2022-10-22T18:10:23.185682Z"
    },
    "papermill": {
     "duration": 0.273381,
     "end_time": "2022-10-22T18:10:23.189071",
     "exception": false,
     "start_time": "2022-10-22T18:10:22.915690",
     "status": "completed"
    },
    "tags": []
   },
   "outputs": [
    {
     "data": {
      "text/html": [
       "<div>\n",
       "<style scoped>\n",
       "    .dataframe tbody tr th:only-of-type {\n",
       "        vertical-align: middle;\n",
       "    }\n",
       "\n",
       "    .dataframe tbody tr th {\n",
       "        vertical-align: top;\n",
       "    }\n",
       "\n",
       "    .dataframe thead th {\n",
       "        text-align: right;\n",
       "    }\n",
       "</style>\n",
       "<table border=\"1\" class=\"dataframe\">\n",
       "  <thead>\n",
       "    <tr style=\"text-align: right;\">\n",
       "      <th></th>\n",
       "      <th>00</th>\n",
       "      <th>01</th>\n",
       "      <th>02</th>\n",
       "      <th>03</th>\n",
       "      <th>04</th>\n",
       "      <th>05</th>\n",
       "      <th>06</th>\n",
       "      <th>07</th>\n",
       "      <th>08</th>\n",
       "      <th>09</th>\n",
       "      <th>...</th>\n",
       "      <th>yellowpages</th>\n",
       "      <th>yelp</th>\n",
       "      <th>york</th>\n",
       "      <th>you</th>\n",
       "      <th>your</th>\n",
       "      <th>youtube</th>\n",
       "      <th>za</th>\n",
       "      <th>zimbio</th>\n",
       "      <th>zip</th>\n",
       "      <th>zoominfo</th>\n",
       "    </tr>\n",
       "  </thead>\n",
       "  <tbody>\n",
       "    <tr>\n",
       "      <th>0</th>\n",
       "      <td>0.0</td>\n",
       "      <td>0.0</td>\n",
       "      <td>0.0</td>\n",
       "      <td>0.0</td>\n",
       "      <td>0.0</td>\n",
       "      <td>0.0</td>\n",
       "      <td>0.0</td>\n",
       "      <td>0.0</td>\n",
       "      <td>0.0</td>\n",
       "      <td>0.0</td>\n",
       "      <td>...</td>\n",
       "      <td>0.0</td>\n",
       "      <td>0.0</td>\n",
       "      <td>0.0</td>\n",
       "      <td>0.0</td>\n",
       "      <td>0.0</td>\n",
       "      <td>0.0</td>\n",
       "      <td>0.0</td>\n",
       "      <td>0.0</td>\n",
       "      <td>0.0</td>\n",
       "      <td>0.0</td>\n",
       "    </tr>\n",
       "    <tr>\n",
       "      <th>1</th>\n",
       "      <td>0.0</td>\n",
       "      <td>0.0</td>\n",
       "      <td>0.0</td>\n",
       "      <td>0.0</td>\n",
       "      <td>0.0</td>\n",
       "      <td>0.0</td>\n",
       "      <td>0.0</td>\n",
       "      <td>0.0</td>\n",
       "      <td>0.0</td>\n",
       "      <td>0.0</td>\n",
       "      <td>...</td>\n",
       "      <td>0.0</td>\n",
       "      <td>0.0</td>\n",
       "      <td>0.0</td>\n",
       "      <td>0.0</td>\n",
       "      <td>0.0</td>\n",
       "      <td>0.0</td>\n",
       "      <td>0.0</td>\n",
       "      <td>0.0</td>\n",
       "      <td>0.0</td>\n",
       "      <td>0.0</td>\n",
       "    </tr>\n",
       "    <tr>\n",
       "      <th>2</th>\n",
       "      <td>0.0</td>\n",
       "      <td>0.0</td>\n",
       "      <td>0.0</td>\n",
       "      <td>0.0</td>\n",
       "      <td>0.0</td>\n",
       "      <td>0.0</td>\n",
       "      <td>0.0</td>\n",
       "      <td>0.0</td>\n",
       "      <td>0.0</td>\n",
       "      <td>0.0</td>\n",
       "      <td>...</td>\n",
       "      <td>0.0</td>\n",
       "      <td>0.0</td>\n",
       "      <td>0.0</td>\n",
       "      <td>0.0</td>\n",
       "      <td>0.0</td>\n",
       "      <td>0.0</td>\n",
       "      <td>0.0</td>\n",
       "      <td>0.0</td>\n",
       "      <td>0.0</td>\n",
       "      <td>0.0</td>\n",
       "    </tr>\n",
       "    <tr>\n",
       "      <th>3</th>\n",
       "      <td>0.0</td>\n",
       "      <td>0.0</td>\n",
       "      <td>0.0</td>\n",
       "      <td>0.0</td>\n",
       "      <td>0.0</td>\n",
       "      <td>0.0</td>\n",
       "      <td>0.0</td>\n",
       "      <td>0.0</td>\n",
       "      <td>0.0</td>\n",
       "      <td>0.0</td>\n",
       "      <td>...</td>\n",
       "      <td>0.0</td>\n",
       "      <td>0.0</td>\n",
       "      <td>0.0</td>\n",
       "      <td>0.0</td>\n",
       "      <td>0.0</td>\n",
       "      <td>0.0</td>\n",
       "      <td>0.0</td>\n",
       "      <td>0.0</td>\n",
       "      <td>0.0</td>\n",
       "      <td>0.0</td>\n",
       "    </tr>\n",
       "    <tr>\n",
       "      <th>4</th>\n",
       "      <td>0.0</td>\n",
       "      <td>0.0</td>\n",
       "      <td>0.0</td>\n",
       "      <td>0.0</td>\n",
       "      <td>0.0</td>\n",
       "      <td>0.0</td>\n",
       "      <td>0.0</td>\n",
       "      <td>0.0</td>\n",
       "      <td>0.0</td>\n",
       "      <td>0.0</td>\n",
       "      <td>...</td>\n",
       "      <td>0.0</td>\n",
       "      <td>0.0</td>\n",
       "      <td>0.0</td>\n",
       "      <td>0.0</td>\n",
       "      <td>0.0</td>\n",
       "      <td>0.0</td>\n",
       "      <td>0.0</td>\n",
       "      <td>0.0</td>\n",
       "      <td>0.0</td>\n",
       "      <td>0.0</td>\n",
       "    </tr>\n",
       "    <tr>\n",
       "      <th>...</th>\n",
       "      <td>...</td>\n",
       "      <td>...</td>\n",
       "      <td>...</td>\n",
       "      <td>...</td>\n",
       "      <td>...</td>\n",
       "      <td>...</td>\n",
       "      <td>...</td>\n",
       "      <td>...</td>\n",
       "      <td>...</td>\n",
       "      <td>...</td>\n",
       "      <td>...</td>\n",
       "      <td>...</td>\n",
       "      <td>...</td>\n",
       "      <td>...</td>\n",
       "      <td>...</td>\n",
       "      <td>...</td>\n",
       "      <td>...</td>\n",
       "      <td>...</td>\n",
       "      <td>...</td>\n",
       "      <td>...</td>\n",
       "      <td>...</td>\n",
       "    </tr>\n",
       "    <tr>\n",
       "      <th>405751</th>\n",
       "      <td>0.0</td>\n",
       "      <td>0.0</td>\n",
       "      <td>0.0</td>\n",
       "      <td>0.0</td>\n",
       "      <td>0.0</td>\n",
       "      <td>0.0</td>\n",
       "      <td>0.0</td>\n",
       "      <td>0.0</td>\n",
       "      <td>0.0</td>\n",
       "      <td>0.0</td>\n",
       "      <td>...</td>\n",
       "      <td>0.0</td>\n",
       "      <td>0.0</td>\n",
       "      <td>0.0</td>\n",
       "      <td>0.0</td>\n",
       "      <td>0.0</td>\n",
       "      <td>0.0</td>\n",
       "      <td>0.0</td>\n",
       "      <td>0.0</td>\n",
       "      <td>0.0</td>\n",
       "      <td>0.0</td>\n",
       "    </tr>\n",
       "    <tr>\n",
       "      <th>405752</th>\n",
       "      <td>0.0</td>\n",
       "      <td>0.0</td>\n",
       "      <td>0.0</td>\n",
       "      <td>0.0</td>\n",
       "      <td>0.0</td>\n",
       "      <td>0.0</td>\n",
       "      <td>0.0</td>\n",
       "      <td>0.0</td>\n",
       "      <td>0.0</td>\n",
       "      <td>0.0</td>\n",
       "      <td>...</td>\n",
       "      <td>0.0</td>\n",
       "      <td>0.0</td>\n",
       "      <td>0.0</td>\n",
       "      <td>0.0</td>\n",
       "      <td>0.0</td>\n",
       "      <td>0.0</td>\n",
       "      <td>0.0</td>\n",
       "      <td>0.0</td>\n",
       "      <td>0.0</td>\n",
       "      <td>0.0</td>\n",
       "    </tr>\n",
       "    <tr>\n",
       "      <th>405753</th>\n",
       "      <td>0.0</td>\n",
       "      <td>0.0</td>\n",
       "      <td>0.0</td>\n",
       "      <td>0.0</td>\n",
       "      <td>0.0</td>\n",
       "      <td>0.0</td>\n",
       "      <td>0.0</td>\n",
       "      <td>0.0</td>\n",
       "      <td>0.0</td>\n",
       "      <td>0.0</td>\n",
       "      <td>...</td>\n",
       "      <td>0.0</td>\n",
       "      <td>0.0</td>\n",
       "      <td>0.0</td>\n",
       "      <td>0.0</td>\n",
       "      <td>0.0</td>\n",
       "      <td>0.0</td>\n",
       "      <td>0.0</td>\n",
       "      <td>0.0</td>\n",
       "      <td>0.0</td>\n",
       "      <td>0.0</td>\n",
       "    </tr>\n",
       "    <tr>\n",
       "      <th>405754</th>\n",
       "      <td>0.0</td>\n",
       "      <td>0.0</td>\n",
       "      <td>0.0</td>\n",
       "      <td>0.0</td>\n",
       "      <td>0.0</td>\n",
       "      <td>0.0</td>\n",
       "      <td>0.0</td>\n",
       "      <td>0.0</td>\n",
       "      <td>0.0</td>\n",
       "      <td>0.0</td>\n",
       "      <td>...</td>\n",
       "      <td>0.0</td>\n",
       "      <td>0.0</td>\n",
       "      <td>0.0</td>\n",
       "      <td>0.0</td>\n",
       "      <td>0.0</td>\n",
       "      <td>0.0</td>\n",
       "      <td>0.0</td>\n",
       "      <td>0.0</td>\n",
       "      <td>0.0</td>\n",
       "      <td>0.0</td>\n",
       "    </tr>\n",
       "    <tr>\n",
       "      <th>405755</th>\n",
       "      <td>0.0</td>\n",
       "      <td>0.0</td>\n",
       "      <td>0.0</td>\n",
       "      <td>0.0</td>\n",
       "      <td>0.0</td>\n",
       "      <td>0.0</td>\n",
       "      <td>0.0</td>\n",
       "      <td>0.0</td>\n",
       "      <td>0.0</td>\n",
       "      <td>0.0</td>\n",
       "      <td>...</td>\n",
       "      <td>0.0</td>\n",
       "      <td>0.0</td>\n",
       "      <td>0.0</td>\n",
       "      <td>0.0</td>\n",
       "      <td>0.0</td>\n",
       "      <td>0.0</td>\n",
       "      <td>0.0</td>\n",
       "      <td>0.0</td>\n",
       "      <td>0.0</td>\n",
       "      <td>0.0</td>\n",
       "    </tr>\n",
       "  </tbody>\n",
       "</table>\n",
       "<p>405756 rows × 1000 columns</p>\n",
       "</div>"
      ],
      "text/plain": [
       "         00   01   02   03   04   05   06   07   08   09  ...  yellowpages  \\\n",
       "0       0.0  0.0  0.0  0.0  0.0  0.0  0.0  0.0  0.0  0.0  ...          0.0   \n",
       "1       0.0  0.0  0.0  0.0  0.0  0.0  0.0  0.0  0.0  0.0  ...          0.0   \n",
       "2       0.0  0.0  0.0  0.0  0.0  0.0  0.0  0.0  0.0  0.0  ...          0.0   \n",
       "3       0.0  0.0  0.0  0.0  0.0  0.0  0.0  0.0  0.0  0.0  ...          0.0   \n",
       "4       0.0  0.0  0.0  0.0  0.0  0.0  0.0  0.0  0.0  0.0  ...          0.0   \n",
       "...     ...  ...  ...  ...  ...  ...  ...  ...  ...  ...  ...          ...   \n",
       "405751  0.0  0.0  0.0  0.0  0.0  0.0  0.0  0.0  0.0  0.0  ...          0.0   \n",
       "405752  0.0  0.0  0.0  0.0  0.0  0.0  0.0  0.0  0.0  0.0  ...          0.0   \n",
       "405753  0.0  0.0  0.0  0.0  0.0  0.0  0.0  0.0  0.0  0.0  ...          0.0   \n",
       "405754  0.0  0.0  0.0  0.0  0.0  0.0  0.0  0.0  0.0  0.0  ...          0.0   \n",
       "405755  0.0  0.0  0.0  0.0  0.0  0.0  0.0  0.0  0.0  0.0  ...          0.0   \n",
       "\n",
       "        yelp  york  you  your  youtube   za  zimbio  zip  zoominfo  \n",
       "0        0.0   0.0  0.0   0.0      0.0  0.0     0.0  0.0       0.0  \n",
       "1        0.0   0.0  0.0   0.0      0.0  0.0     0.0  0.0       0.0  \n",
       "2        0.0   0.0  0.0   0.0      0.0  0.0     0.0  0.0       0.0  \n",
       "3        0.0   0.0  0.0   0.0      0.0  0.0     0.0  0.0       0.0  \n",
       "4        0.0   0.0  0.0   0.0      0.0  0.0     0.0  0.0       0.0  \n",
       "...      ...   ...  ...   ...      ...  ...     ...  ...       ...  \n",
       "405751   0.0   0.0  0.0   0.0      0.0  0.0     0.0  0.0       0.0  \n",
       "405752   0.0   0.0  0.0   0.0      0.0  0.0     0.0  0.0       0.0  \n",
       "405753   0.0   0.0  0.0   0.0      0.0  0.0     0.0  0.0       0.0  \n",
       "405754   0.0   0.0  0.0   0.0      0.0  0.0     0.0  0.0       0.0  \n",
       "405755   0.0   0.0  0.0   0.0      0.0  0.0     0.0  0.0       0.0  \n",
       "\n",
       "[405756 rows x 1000 columns]"
      ]
     },
     "execution_count": 48,
     "metadata": {},
     "output_type": "execute_result"
    }
   ],
   "source": [
    "x"
   ]
  },
  {
   "cell_type": "markdown",
   "id": "54a62a74",
   "metadata": {
    "papermill": {
     "duration": 0.011805,
     "end_time": "2022-10-22T18:10:23.212812",
     "exception": false,
     "start_time": "2022-10-22T18:10:23.201007",
     "status": "completed"
    },
    "tags": []
   },
   "source": [
    "## Vectorizing CountVectorizer\n"
   ]
  },
  {
   "cell_type": "code",
   "execution_count": 49,
   "id": "b6f364ba",
   "metadata": {},
   "outputs": [],
   "source": [
    "cv = CountVectorizer()\n",
    "feature_train = cv.fit_transform(df_train.lem_url.astype('str')) \n",
    "feature_test = cv.transform(df_test.lem_url.astype('str'))"
   ]
  },
  {
   "cell_type": "code",
   "execution_count": 21,
   "id": "1b3e9280",
   "metadata": {
    "execution": {
     "iopub.execute_input": "2022-10-22T18:10:23.238390Z",
     "iopub.status.busy": "2022-10-22T18:10:23.237986Z",
     "iopub.status.idle": "2022-10-22T18:10:30.608457Z",
     "shell.execute_reply": "2022-10-22T18:10:30.607293Z"
    },
    "papermill": {
     "duration": 7.386472,
     "end_time": "2022-10-22T18:10:30.611200",
     "exception": false,
     "start_time": "2022-10-22T18:10:23.224728",
     "status": "completed"
    },
    "tags": []
   },
   "outputs": [],
   "source": [
    "cv = CountVectorizer()\n",
    "feature = cv.fit_transform(df.lem_url.astype('str')) "
   ]
  },
  {
   "cell_type": "code",
   "execution_count": 50,
   "id": "d97fe144",
   "metadata": {
    "execution": {
     "iopub.execute_input": "2022-10-22T18:10:30.637882Z",
     "iopub.status.busy": "2022-10-22T18:10:30.637497Z",
     "iopub.status.idle": "2022-10-22T18:10:30.643109Z",
     "shell.execute_reply": "2022-10-22T18:10:30.642318Z"
    },
    "papermill": {
     "duration": 0.021477,
     "end_time": "2022-10-22T18:10:30.645006",
     "exception": false,
     "start_time": "2022-10-22T18:10:30.623529",
     "status": "completed"
    },
    "tags": []
   },
   "outputs": [
    {
     "data": {
      "text/plain": [
       "<405756x407781 sparse matrix of type '<class 'numpy.int64'>'\n",
       "\twith 2838631 stored elements in Compressed Sparse Row format>"
      ]
     },
     "execution_count": 50,
     "metadata": {},
     "output_type": "execute_result"
    }
   ],
   "source": [
    "feature_train"
   ]
  },
  {
   "cell_type": "code",
   "execution_count": 51,
   "id": "edffb6cd",
   "metadata": {},
   "outputs": [
    {
     "data": {
      "text/plain": [
       "<101439x407781 sparse matrix of type '<class 'numpy.int64'>'\n",
       "\twith 632430 stored elements in Compressed Sparse Row format>"
      ]
     },
     "execution_count": 51,
     "metadata": {},
     "output_type": "execute_result"
    }
   ],
   "source": [
    "feature_test"
   ]
  },
  {
   "cell_type": "markdown",
   "id": "4c077ae2",
   "metadata": {
    "papermill": {
     "duration": 0.011992,
     "end_time": "2022-10-22T18:10:30.669468",
     "exception": false,
     "start_time": "2022-10-22T18:10:30.657476",
     "status": "completed"
    },
    "tags": []
   },
   "source": [
    "### It seems that count vec act better"
   ]
  },
  {
   "cell_type": "code",
   "execution_count": 30,
   "id": "6249f0ac",
   "metadata": {
    "execution": {
     "iopub.execute_input": "2022-10-22T18:10:30.696489Z",
     "iopub.status.busy": "2022-10-22T18:10:30.695698Z",
     "iopub.status.idle": "2022-10-22T18:10:30.701858Z",
     "shell.execute_reply": "2022-10-22T18:10:30.700525Z"
    },
    "papermill": {
     "duration": 0.022623,
     "end_time": "2022-10-22T18:10:30.704423",
     "exception": false,
     "start_time": "2022-10-22T18:10:30.681800",
     "status": "completed"
    },
    "tags": []
   },
   "outputs": [],
   "source": [
    "# x_train,x_test,y_train,y_test =  train_test_split(feature,y,random_state=42,test_size=0.2,shuffle=True)\n",
    "# y=df.Label"
   ]
  },
  {
   "cell_type": "code",
   "execution_count": 55,
   "id": "d015727f",
   "metadata": {},
   "outputs": [
    {
     "data": {
      "text/plain": [
       "array([0, 0, 0, ..., 1, 0, 1])"
      ]
     },
     "execution_count": 55,
     "metadata": {},
     "output_type": "execute_result"
    }
   ],
   "source": [
    "y_train = df_train.Label\n",
    "y_test = df_test.Label\n",
    "y_train=np.where(y_train=='bad',1,0)\n",
    "y_test=np.where(y_test=='bad',1,0)\n",
    "y_train"
   ]
  },
  {
   "cell_type": "code",
   "execution_count": 56,
   "id": "c6d2d0d8",
   "metadata": {},
   "outputs": [],
   "source": [
    "x_train = feature_train\n",
    "x_test = feature_test"
   ]
  },
  {
   "cell_type": "code",
   "execution_count": 31,
   "id": "cff390aa",
   "metadata": {
    "execution": {
     "iopub.execute_input": "2022-10-22T18:10:30.730289Z",
     "iopub.status.busy": "2022-10-22T18:10:30.729893Z",
     "iopub.status.idle": "2022-10-22T18:10:30.767713Z",
     "shell.execute_reply": "2022-10-22T18:10:30.766546Z"
    },
    "papermill": {
     "duration": 0.053338,
     "end_time": "2022-10-22T18:10:30.769990",
     "exception": false,
     "start_time": "2022-10-22T18:10:30.716652",
     "status": "completed"
    },
    "tags": []
   },
   "outputs": [],
   "source": [
    "#y=np.where(y=='bad',1,0)\n",
    "#y"
   ]
  },
  {
   "cell_type": "code",
   "execution_count": 57,
   "id": "538e62ea",
   "metadata": {
    "execution": {
     "iopub.execute_input": "2022-10-22T18:10:30.890021Z",
     "iopub.status.busy": "2022-10-22T18:10:30.889548Z",
     "iopub.status.idle": "2022-10-22T18:10:30.899227Z",
     "shell.execute_reply": "2022-10-22T18:10:30.898152Z"
    },
    "papermill": {
     "duration": 0.02513,
     "end_time": "2022-10-22T18:10:30.901391",
     "exception": false,
     "start_time": "2022-10-22T18:10:30.876261",
     "status": "completed"
    },
    "tags": []
   },
   "outputs": [],
   "source": [
    "def get_accuracy(name, trained_model , x_train, y_train, x_test, y_test):\n",
    "    tree_predict = trained_model.predict(x_test)\n",
    "    print(\"Testing accuracy   :\",metrics.accuracy_score(y_test, tree_predict)*100 , \"%\")\n",
    "    print(\"MSE [TEST]          :\",mean_squared_error(y_test, tree_predict))\n",
    "\n",
    "\n",
    "    tree_predict1 = trained_model.predict(x_train)\n",
    "    print(\"Training accuracy  :\",metrics.accuracy_score(y_train, tree_predict1)*100 ,\"%\")\n",
    "    print(\"MSE [TRAIN]         :\",mean_squared_error(y_train, tree_predict1))\n",
    "\n",
    "    print(\"precision : \",precision_score(y_test, tree_predict,average='micro'))\n",
    "    print(\"recall    : \",recall_score(y_test, tree_predict,average='micro'))\n",
    "    print(\"f1_score  : \",f1_score(y_test, tree_predict,average='micro'))\n",
    "\n",
    "\n",
    "    cf1 = confusion_matrix(y_test,tree_predict)\n",
    "    sb.heatmap(cf1,annot=True,fmt = '.0f')\n",
    "    plt.xlabel('prediction')\n",
    "    plt.ylabel('Actual')\n",
    "    plt.title(name+ ' Confusion Matrix')\n",
    "    plt.show()\n",
    "\n",
    "    print(classification_report(y_train,  trained_model.predict(x_train)))\n",
    "    print(classification_report(y_test,  trained_model.predict(x_test)))"
   ]
  },
  {
   "cell_type": "markdown",
   "id": "a5ca932c",
   "metadata": {
    "papermill": {
     "duration": 0.011909,
     "end_time": "2022-10-22T18:10:30.925412",
     "exception": false,
     "start_time": "2022-10-22T18:10:30.913503",
     "status": "completed"
    },
    "tags": []
   },
   "source": [
    "## Naive Bayez"
   ]
  },
  {
   "cell_type": "code",
   "execution_count": 58,
   "id": "c784e31e",
   "metadata": {
    "execution": {
     "iopub.execute_input": "2022-10-22T18:10:30.952766Z",
     "iopub.status.busy": "2022-10-22T18:10:30.952355Z",
     "iopub.status.idle": "2022-10-22T18:10:32.640091Z",
     "shell.execute_reply": "2022-10-22T18:10:32.638637Z"
    },
    "papermill": {
     "duration": 1.704377,
     "end_time": "2022-10-22T18:10:32.642558",
     "exception": false,
     "start_time": "2022-10-22T18:10:30.938181",
     "status": "completed"
    },
    "tags": []
   },
   "outputs": [
    {
     "name": "stdout",
     "output_type": "stream",
     "text": [
      "Testing accuracy   : 96.51317540590897 %\n",
      "MSE [TEST]          : 0.0348682459409103\n",
      "Training accuracy  : 98.08949220713926 %\n",
      "MSE [TRAIN]         : 0.019105077928607342\n",
      "precision :  0.9651317540590897\n",
      "recall    :  0.9651317540590897\n",
      "f1_score  :  0.9651317540590897\n"
     ]
    },
    {
     "data": {
      "image/png": "[encoded data removed]",
      "text/plain": [
       "<Figure size 432x288 with 2 Axes>"
      ]
     },
     "metadata": {
      "needs_background": "light"
     },
     "output_type": "display_data"
    },
    {
     "name": "stdout",
     "output_type": "stream",
     "text": [
      "              precision    recall  f1-score   support\n",
      "\n",
      "           0       0.99      0.99      0.99    314192\n",
      "           1       0.97      0.95      0.96     91564\n",
      "\n",
      "    accuracy                           0.98    405756\n",
      "   macro avg       0.98      0.97      0.97    405756\n",
      "weighted avg       0.98      0.98      0.98    405756\n",
      "\n",
      "              precision    recall  f1-score   support\n",
      "\n",
      "           0       0.97      0.99      0.98     78705\n",
      "           1       0.96      0.88      0.92     22734\n",
      "\n",
      "    accuracy                           0.97    101439\n",
      "   macro avg       0.96      0.94      0.95    101439\n",
      "weighted avg       0.97      0.97      0.96    101439\n",
      "\n"
     ]
    }
   ],
   "source": [
    "trained_clf_multinomial_nb = MultinomialNB().fit(x_train, y_train)\n",
    "get_accuracy('MultinomialNB',trained_clf_multinomial_nb,x_train, y_train, x_test, y_test)"
   ]
  },
  {
   "cell_type": "markdown",
   "id": "47fad960",
   "metadata": {
    "papermill": {
     "duration": 0.012505,
     "end_time": "2022-10-22T18:10:32.667900",
     "exception": false,
     "start_time": "2022-10-22T18:10:32.655395",
     "status": "completed"
    },
    "tags": []
   },
   "source": [
    "## Logistic Reg"
   ]
  },
  {
   "cell_type": "code",
   "execution_count": 59,
   "id": "e79a12d8",
   "metadata": {
    "execution": {
     "iopub.execute_input": "2022-10-22T18:10:32.695127Z",
     "iopub.status.busy": "2022-10-22T18:10:32.694685Z",
     "iopub.status.idle": "2022-10-22T18:10:54.115363Z",
     "shell.execute_reply": "2022-10-22T18:10:54.113815Z"
    },
    "papermill": {
     "duration": 21.437584,
     "end_time": "2022-10-22T18:10:54.118075",
     "exception": false,
     "start_time": "2022-10-22T18:10:32.680491",
     "status": "completed"
    },
    "tags": []
   },
   "outputs": [
    {
     "name": "stderr",
     "output_type": "stream",
     "text": [
      "/Users/qifanwu/opt/anaconda3/lib/python3.8/site-packages/sklearn/linear_model/_logistic.py:444: ConvergenceWarning: lbfgs failed to converge (status=1):\n",
      "STOP: TOTAL NO. of ITERATIONS REACHED LIMIT.\n",
      "\n",
      "Increase the number of iterations (max_iter) or scale the data as shown in:\n",
      "    https://scikit-learn.org/stable/modules/preprocessing.html\n",
      "Please also refer to the documentation for alternative solver options:\n",
      "    https://scikit-learn.org/stable/modules/linear_model.html#logistic-regression\n",
      "  n_iter_i = _check_optimize_result(\n"
     ]
    },
    {
     "name": "stdout",
     "output_type": "stream",
     "text": [
      "Testing accuracy   : 96.36333165744931 %\n",
      "MSE [TEST]          : 0.03636668342550695\n",
      "Training accuracy  : 97.73312039748025 %\n",
      "MSE [TRAIN]         : 0.022668796025197408\n",
      "precision :  0.963633316574493\n",
      "recall    :  0.963633316574493\n",
      "f1_score  :  0.963633316574493\n"
     ]
    },
    {
     "data": {
      "image/png": "[encoded data removed]",
      "text/plain": [
       "<Figure size 432x288 with 2 Axes>"
      ]
     },
     "metadata": {
      "needs_background": "light"
     },
     "output_type": "display_data"
    },
    {
     "name": "stdout",
     "output_type": "stream",
     "text": [
      "              precision    recall  f1-score   support\n",
      "\n",
      "           0       0.98      1.00      0.99    314192\n",
      "           1       0.98      0.91      0.95     91564\n",
      "\n",
      "    accuracy                           0.98    405756\n",
      "   macro avg       0.98      0.95      0.97    405756\n",
      "weighted avg       0.98      0.98      0.98    405756\n",
      "\n",
      "              precision    recall  f1-score   support\n",
      "\n",
      "           0       0.96      0.99      0.98     78705\n",
      "           1       0.97      0.87      0.91     22734\n",
      "\n",
      "    accuracy                           0.96    101439\n",
      "   macro avg       0.96      0.93      0.95    101439\n",
      "weighted avg       0.96      0.96      0.96    101439\n",
      "\n"
     ]
    }
   ],
   "source": [
    "trained_clf_LogisticRegression = LogisticRegression().fit(x_train, y_train)\n",
    "get_accuracy('LogisticRegression',trained_clf_LogisticRegression,x_train, y_train, x_test, y_test)"
   ]
  },
  {
   "cell_type": "code",
   "execution_count": 30,
   "id": "ed9fbee6",
   "metadata": {
    "execution": {
     "iopub.execute_input": "2022-10-22T18:10:54.146881Z",
     "iopub.status.busy": "2022-10-22T18:10:54.146064Z",
     "iopub.status.idle": "2022-10-22T18:10:54.150887Z",
     "shell.execute_reply": "2022-10-22T18:10:54.149716Z"
    },
    "papermill": {
     "duration": 0.021649,
     "end_time": "2022-10-22T18:10:54.153214",
     "exception": false,
     "start_time": "2022-10-22T18:10:54.131565",
     "status": "completed"
    },
    "tags": []
   },
   "outputs": [],
   "source": [
    "# trained_clf_random_forest = RandomForestClassifier().fit(x_train, y_train)\n",
    "# get_accuracy('RandomForestClassifier',trained_clf_random_forest,x_train, y_train, x_test, y_test)\n"
   ]
  },
  {
   "cell_type": "markdown",
   "id": "8a0d22ed",
   "metadata": {
    "papermill": {
     "duration": 0.013234,
     "end_time": "2022-10-22T18:10:54.180295",
     "exception": false,
     "start_time": "2022-10-22T18:10:54.167061",
     "status": "completed"
    },
    "tags": []
   },
   "source": [
    "## SVC"
   ]
  },
  {
   "cell_type": "code",
   "execution_count": 60,
   "id": "5ef9a0a1",
   "metadata": {
    "execution": {
     "iopub.execute_input": "2022-10-22T18:10:54.208948Z",
     "iopub.status.busy": "2022-10-22T18:10:54.208529Z",
     "iopub.status.idle": "2022-10-22T18:11:22.846019Z",
     "shell.execute_reply": "2022-10-22T18:11:22.844558Z"
    },
    "papermill": {
     "duration": 28.654744,
     "end_time": "2022-10-22T18:11:22.848414",
     "exception": false,
     "start_time": "2022-10-22T18:10:54.193670",
     "status": "completed"
    },
    "tags": []
   },
   "outputs": [
    {
     "name": "stdout",
     "output_type": "stream",
     "text": [
      "Testing accuracy   : 97.13916738138192 %\n",
      "MSE [TEST]          : 0.02860832618618086\n",
      "Training accuracy  : 99.96475714468794 %\n",
      "MSE [TRAIN]         : 0.00035242855312059464\n",
      "precision :  0.9713916738138192\n",
      "recall    :  0.9713916738138192\n",
      "f1_score  :  0.9713916738138192\n"
     ]
    },
    {
     "data": {
      "image/png": "[encoded data removed]",
      "text/plain": [
       "<Figure size 432x288 with 2 Axes>"
      ]
     },
     "metadata": {
      "needs_background": "light"
     },
     "output_type": "display_data"
    },
    {
     "name": "stdout",
     "output_type": "stream",
     "text": [
      "              precision    recall  f1-score   support\n",
      "\n",
      "           0       1.00      1.00      1.00    314192\n",
      "           1       1.00      1.00      1.00     91564\n",
      "\n",
      "    accuracy                           1.00    405756\n",
      "   macro avg       1.00      1.00      1.00    405756\n",
      "weighted avg       1.00      1.00      1.00    405756\n",
      "\n",
      "              precision    recall  f1-score   support\n",
      "\n",
      "           0       0.97      0.99      0.98     78705\n",
      "           1       0.97      0.90      0.93     22734\n",
      "\n",
      "    accuracy                           0.97    101439\n",
      "   macro avg       0.97      0.94      0.96    101439\n",
      "weighted avg       0.97      0.97      0.97    101439\n",
      "\n"
     ]
    }
   ],
   "source": [
    "from sklearn.svm import LinearSVC\n",
    "trained_clf_svc = LinearSVC().fit(x_train, y_train)\n",
    "get_accuracy('LinearSVC',trained_clf_svc,x_train, y_train, x_test, y_test)"
   ]
  }
 ],
 "metadata": {
  "kernelspec": {
   "display_name": "Python 3",
   "language": "python",
   "name": "python3"
  },
  "language_info": {
   "codemirror_mode": {
    "name": "ipython",
    "version": 3
   },
   "file_extension": ".py",
   "mimetype": "text/x-python",
   "name": "python",
   "nbconvert_exporter": "python",
   "pygments_lexer": "ipython3",
   "version": "3.8.8"
  },
  "papermill": {
   "default_parameters": {},
   "duration": 119.123512,
   "end_time": "2022-10-22T18:11:24.487419",
   "environment_variables": {},
   "exception": null,
   "input_path": "__notebook__.ipynb",
   "output_path": "__notebook__.ipynb",
   "parameters": {},
   "start_time": "2022-10-22T18:09:25.363907",
   "version": "2.3.4"
  }
 },
 "nbformat": 4,
 "nbformat_minor": 5
}
